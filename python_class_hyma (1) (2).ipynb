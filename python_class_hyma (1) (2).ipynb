{
 "cells": [
  {
   "cell_type": "markdown",
   "id": "2b08e765",
   "metadata": {},
   "source": [
    "# Practise test."
   ]
  },
  {
   "cell_type": "markdown",
   "id": "b986f6c3",
   "metadata": {},
   "source": [
    "## 4th Question"
   ]
  },
  {
   "cell_type": "code",
   "execution_count": 2,
   "id": "7f1cdea4",
   "metadata": {},
   "outputs": [],
   "source": [
    "str1=\"introduction to informatics\"\n",
    "str2=\"I 501\""
   ]
  },
  {
   "cell_type": "code",
   "execution_count": 3,
   "id": "6bc9fa6e",
   "metadata": {},
   "outputs": [
    {
     "data": {
      "text/plain": [
       "27"
      ]
     },
     "execution_count": 3,
     "metadata": {},
     "output_type": "execute_result"
    }
   ],
   "source": [
    "len(str1)"
   ]
  },
  {
   "cell_type": "code",
   "execution_count": 7,
   "id": "c8837a86",
   "metadata": {},
   "outputs": [
    {
     "name": "stdout",
     "output_type": "stream",
     "text": [
      "The length of String1 is 27\n",
      "The length of String2 is 5\n"
     ]
    }
   ],
   "source": [
    "print(\"The length of String1 is\", len(str1))\n",
    "print(\"The length of String2 is\" ,len(str2))"
   ]
  },
  {
   "cell_type": "code",
   "execution_count": 9,
   "id": "4e6d8155",
   "metadata": {},
   "outputs": [
    {
     "name": "stdout",
     "output_type": "stream",
     "text": [
      "in\n",
      "cs\n"
     ]
    }
   ],
   "source": [
    "print(str1[:2])\n",
    "print(str1[-2:])"
   ]
  },
  {
   "cell_type": "code",
   "execution_count": 4,
   "id": "be81da73",
   "metadata": {},
   "outputs": [
    {
     "name": "stdout",
     "output_type": "stream",
     "text": [
      "I \n",
      "01\n"
     ]
    }
   ],
   "source": [
    "print(str2[:2])\n",
    "print(str2[-2:])"
   ]
  },
  {
   "cell_type": "markdown",
   "id": "b19bfd9c",
   "metadata": {},
   "source": [
    "## 5th Question"
   ]
  },
  {
   "cell_type": "code",
   "execution_count": 10,
   "id": "dcc7df97",
   "metadata": {},
   "outputs": [
    {
     "name": "stdout",
     "output_type": "stream",
     "text": [
      "Kindly enter your age 15\n"
     ]
    }
   ],
   "source": [
    "age=int(input(\"Kindly enter your age \"))"
   ]
  },
  {
   "cell_type": "code",
   "execution_count": 34,
   "id": "e3f08c85",
   "metadata": {},
   "outputs": [
    {
     "name": "stdout",
     "output_type": "stream",
     "text": [
      "The datatype for the column age is <class 'int'>\n"
     ]
    }
   ],
   "source": [
    "print(\"The datatype for the column age is\", type(age))"
   ]
  },
  {
   "cell_type": "code",
   "execution_count": 35,
   "id": "bcd06591",
   "metadata": {},
   "outputs": [
    {
     "name": "stdout",
     "output_type": "stream",
     "text": [
      "Kindly enter your cityHyderabad\n"
     ]
    }
   ],
   "source": [
    "city=input(\"Kindly enter your city \")"
   ]
  },
  {
   "cell_type": "code",
   "execution_count": 36,
   "id": "ba77a3fa",
   "metadata": {},
   "outputs": [
    {
     "name": "stdout",
     "output_type": "stream",
     "text": [
      "The datatype for the column age is <class 'str'>\n"
     ]
    }
   ],
   "source": [
    "print(\"The datatype for the column city is\", type(city))"
   ]
  },
  {
   "cell_type": "code",
   "execution_count": 37,
   "id": "33ebd038",
   "metadata": {},
   "outputs": [
    {
     "name": "stdout",
     "output_type": "stream",
     "text": [
      "kindly enter you height 5.7\n"
     ]
    }
   ],
   "source": [
    "height=float(input(\"kindly enter you height \"))"
   ]
  },
  {
   "cell_type": "code",
   "execution_count": 38,
   "id": "b2b5b34b",
   "metadata": {},
   "outputs": [
    {
     "name": "stdout",
     "output_type": "stream",
     "text": [
      "The datatype for the column height is <class 'float'>\n"
     ]
    }
   ],
   "source": [
    "print(\"The datatype for the column height is\", type(height))"
   ]
  },
  {
   "cell_type": "code",
   "execution_count": 12,
   "id": "ef69fe9f",
   "metadata": {},
   "outputs": [
    {
     "name": "stdout",
     "output_type": "stream",
     "text": [
      "Kindly enter your name jayaram\n"
     ]
    }
   ],
   "source": [
    "name=input(\"Kindly enter your name \")"
   ]
  },
  {
   "cell_type": "code",
   "execution_count": 13,
   "id": "e1ac50fa",
   "metadata": {},
   "outputs": [
    {
     "name": "stdout",
     "output_type": "stream",
     "text": [
      "The datatype for the column city is <class 'str'>\n"
     ]
    }
   ],
   "source": [
    "print(\"The datatype for the column city is\", type(name))"
   ]
  },
  {
   "cell_type": "markdown",
   "id": "4cd1e5bc",
   "metadata": {},
   "source": [
    "## 6th Question "
   ]
  },
  {
   "cell_type": "code",
   "execution_count": 27,
   "id": "594050d0",
   "metadata": {},
   "outputs": [
    {
     "name": "stdout",
     "output_type": "stream",
     "text": [
      "Enter your value 1: 7\n"
     ]
    }
   ],
   "source": [
    "value1 = int(input(\"Enter your value 1: \"))"
   ]
  },
  {
   "cell_type": "code",
   "execution_count": 28,
   "id": "b2ad64c4",
   "metadata": {},
   "outputs": [
    {
     "name": "stdout",
     "output_type": "stream",
     "text": [
      "Enter your value 2: 8\n"
     ]
    }
   ],
   "source": [
    "value2 = int(input(\"Enter your value 2: \"))"
   ]
  },
  {
   "cell_type": "code",
   "execution_count": 29,
   "id": "31d66923",
   "metadata": {},
   "outputs": [
    {
     "name": "stdout",
     "output_type": "stream",
     "text": [
      "Enter your value 3: 9\n"
     ]
    }
   ],
   "source": [
    "value3 = int(input(\"Enter your value 3: \"))"
   ]
  },
  {
   "cell_type": "code",
   "execution_count": 30,
   "id": "fb60de57",
   "metadata": {},
   "outputs": [
    {
     "name": "stdout",
     "output_type": "stream",
     "text": [
      "The sum of all three values is 24\n"
     ]
    }
   ],
   "source": [
    "print(\"The sum of all three values is\", value1+value2+value3) "
   ]
  },
  {
   "cell_type": "markdown",
   "id": "b1a3b1ac",
   "metadata": {},
   "source": [
    "## 7th Question"
   ]
  },
  {
   "cell_type": "code",
   "execution_count": 19,
   "id": "016499c0",
   "metadata": {},
   "outputs": [
    {
     "name": "stdout",
     "output_type": "stream",
     "text": [
      "Enter your value:4.5\n"
     ]
    }
   ],
   "source": [
    "value_float=float(input(\"Enter your value:\"))"
   ]
  },
  {
   "cell_type": "code",
   "execution_count": 20,
   "id": "6f70cc4b",
   "metadata": {},
   "outputs": [
    {
     "name": "stdout",
     "output_type": "stream",
     "text": [
      "The Square value of the number is 20.25\n"
     ]
    }
   ],
   "source": [
    "print(\"The Square value of the number is\", value_float**2)"
   ]
  },
  {
   "cell_type": "code",
   "execution_count": 21,
   "id": "3bcab3f7",
   "metadata": {},
   "outputs": [
    {
     "name": "stdout",
     "output_type": "stream",
     "text": [
      "The Cube value of the number is 91.125\n"
     ]
    }
   ],
   "source": [
    "print(\"The Cube value of the number is\", value_float**3)"
   ]
  },
  {
   "cell_type": "markdown",
   "id": "736b2d2f",
   "metadata": {},
   "source": [
    "## 8th question"
   ]
  },
  {
   "cell_type": "code",
   "execution_count": 22,
   "id": "fd5a750e",
   "metadata": {},
   "outputs": [],
   "source": [
    "str3=\"Introduction to Informatics!!\"\n",
    "str4=\"I501\""
   ]
  },
  {
   "cell_type": "code",
   "execution_count": 31,
   "id": "7cab3bc6",
   "metadata": {
    "scrolled": true
   },
   "outputs": [
    {
     "name": "stdout",
     "output_type": "stream",
     "text": [
      "Introduction to Informatics!!-I501\n",
      "The Length of the string is  34\n"
     ]
    }
   ],
   "source": [
    "str_concat=str3 + \"-\" + str4\n",
    "print(str_concat)\n",
    "print(\"The Length of the string is \", len(str_concat))"
   ]
  },
  {
   "cell_type": "markdown",
   "id": "c6daaffe",
   "metadata": {},
   "source": [
    "## 9th Question"
   ]
  },
  {
   "cell_type": "code",
   "execution_count": 40,
   "id": "d2c20e2c",
   "metadata": {},
   "outputs": [
    {
     "data": {
      "text/plain": [
       "int"
      ]
     },
     "execution_count": 40,
     "metadata": {},
     "output_type": "execute_result"
    }
   ],
   "source": [
    "type(12-4)"
   ]
  },
  {
   "cell_type": "code",
   "execution_count": 41,
   "id": "dce5bd47",
   "metadata": {},
   "outputs": [
    {
     "data": {
      "text/plain": [
       "str"
      ]
     },
     "execution_count": 41,
     "metadata": {},
     "output_type": "execute_result"
    }
   ],
   "source": [
    "type(\"int\")"
   ]
  },
  {
   "cell_type": "code",
   "execution_count": 42,
   "id": "09675841",
   "metadata": {},
   "outputs": [
    {
     "data": {
      "text/plain": [
       "float"
      ]
     },
     "execution_count": 42,
     "metadata": {},
     "output_type": "execute_result"
    }
   ],
   "source": [
    "type(200//40.0)"
   ]
  },
  {
   "cell_type": "code",
   "execution_count": 43,
   "id": "12092ee6",
   "metadata": {},
   "outputs": [
    {
     "data": {
      "text/plain": [
       "complex"
      ]
     },
     "execution_count": 43,
     "metadata": {},
     "output_type": "execute_result"
    }
   ],
   "source": [
    "type(4+8.7j)"
   ]
  },
  {
   "cell_type": "markdown",
   "id": "31880943",
   "metadata": {},
   "source": [
    "## 10th Question"
   ]
  },
  {
   "cell_type": "code",
   "execution_count": 48,
   "id": "350b0937",
   "metadata": {},
   "outputs": [
    {
     "name": "stdout",
     "output_type": "stream",
     "text": [
      "Enter String 1: lily\n"
     ]
    }
   ],
   "source": [
    "str1=input(\"Enter String 1: \")"
   ]
  },
  {
   "cell_type": "code",
   "execution_count": 49,
   "id": "83818a21",
   "metadata": {},
   "outputs": [
    {
     "name": "stdout",
     "output_type": "stream",
     "text": [
      "Enter String 2: Rose\n"
     ]
    }
   ],
   "source": [
    "str2=input(\"Enter String 2: \")"
   ]
  },
  {
   "cell_type": "code",
   "execution_count": 50,
   "id": "0603d04d",
   "metadata": {},
   "outputs": [
    {
     "name": "stdout",
     "output_type": "stream",
     "text": [
      "Enter String 3: Charles Thomas\n"
     ]
    }
   ],
   "source": [
    "str3=input(\"Enter String 3: \")"
   ]
  },
  {
   "cell_type": "code",
   "execution_count": 51,
   "id": "b05ef9d9",
   "metadata": {},
   "outputs": [
    {
     "name": "stdout",
     "output_type": "stream",
     "text": [
      "The original list : ['lily', 'Rose', 'Charles Thomas']\n",
      "Maximum length string is : Charles Thomas\n"
     ]
    }
   ],
   "source": [
    "# initialize list \n",
    "test_list = [str1,str2,str3]\n",
    "  \n",
    "# printing original list \n",
    "print(\"The original list : \" + str(test_list))\n",
    "  \n",
    "# Longest String in list\n",
    "# using loop\n",
    "max_len = -1\n",
    "for ele in test_list:\n",
    "    if len(ele) > max_len:\n",
    "        max_len = len(ele)\n",
    "        res = ele\n",
    "  \n",
    "# printing result\n",
    "print(\"Maximum length string is : \" + res)"
   ]
  },
  {
   "cell_type": "code",
   "execution_count": 52,
   "id": "1d488e77",
   "metadata": {},
   "outputs": [
    {
     "name": "stdout",
     "output_type": "stream",
     "text": [
      "Charles Thomas\n",
      "The Greatest String among the three values is Charles Thomas\n"
     ]
    }
   ],
   "source": [
    "if len(str1) > len(str2):\n",
    "    temp=str1\n",
    "    print(temp)\n",
    "else:\n",
    "    if len(str2) > len(str3):\n",
    "        temp=str2\n",
    "        print(temp)\n",
    "    else:\n",
    "        temp=str3\n",
    "        print(temp)\n",
    "\n",
    "print(\"The Greatest String among the three values is\", temp)"
   ]
  }
 ],
 "metadata": {
  "kernelspec": {
   "display_name": "Python 3",
   "language": "python",
   "name": "python3"
  },
  "language_info": {
   "codemirror_mode": {
    "name": "ipython",
    "version": 3
   },
   "file_extension": ".py",
   "mimetype": "text/x-python",
   "name": "python",
   "nbconvert_exporter": "python",
   "pygments_lexer": "ipython3",
   "version": "3.8.8"
  }
 },
 "nbformat": 4,
 "nbformat_minor": 5
}
